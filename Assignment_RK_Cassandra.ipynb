{
 "cells": [
  {
   "attachments": {},
   "cell_type": "markdown",
   "metadata": {},
   "source": [
    "Name :- Rayapati Keerthi\n",
    "\n",
    "Assignment 02 :- Cassandra"
   ]
  },
  {
   "cell_type": "code",
   "execution_count": 79,
   "metadata": {},
   "outputs": [],
   "source": [
    "# Load the packages\n",
    "import pandas as pd\n",
    "from cassandra.cluster import Cluster"
   ]
  },
  {
   "cell_type": "code",
   "execution_count": 103,
   "metadata": {},
   "outputs": [
    {
     "data": {
      "text/html": [
       "<div>\n",
       "<style scoped>\n",
       "    .dataframe tbody tr th:only-of-type {\n",
       "        vertical-align: middle;\n",
       "    }\n",
       "\n",
       "    .dataframe tbody tr th {\n",
       "        vertical-align: top;\n",
       "    }\n",
       "\n",
       "    .dataframe thead th {\n",
       "        text-align: right;\n",
       "    }\n",
       "</style>\n",
       "<table border=\"1\" class=\"dataframe\">\n",
       "  <thead>\n",
       "    <tr style=\"text-align: right;\">\n",
       "      <th></th>\n",
       "      <th>warehouse_num</th>\n",
       "      <th>stock_keeping_unit</th>\n",
       "      <th>description</th>\n",
       "      <th>product_name</th>\n",
       "    </tr>\n",
       "  </thead>\n",
       "  <tbody>\n",
       "    <tr>\n",
       "      <th>0</th>\n",
       "      <td>101</td>\n",
       "      <td>10001</td>\n",
       "      <td>'android'</td>\n",
       "      <td>'realme'</td>\n",
       "    </tr>\n",
       "    <tr>\n",
       "      <th>1</th>\n",
       "      <td>102</td>\n",
       "      <td>10002</td>\n",
       "      <td>'android'</td>\n",
       "      <td>'vivo'</td>\n",
       "    </tr>\n",
       "    <tr>\n",
       "      <th>2</th>\n",
       "      <td>103</td>\n",
       "      <td>10003</td>\n",
       "      <td>'android'</td>\n",
       "      <td>'samsung'</td>\n",
       "    </tr>\n",
       "    <tr>\n",
       "      <th>3</th>\n",
       "      <td>104</td>\n",
       "      <td>10004</td>\n",
       "      <td>'android'</td>\n",
       "      <td>'galaxy'</td>\n",
       "    </tr>\n",
       "    <tr>\n",
       "      <th>4</th>\n",
       "      <td>105</td>\n",
       "      <td>10005</td>\n",
       "      <td>'ios'</td>\n",
       "      <td>'iphone'</td>\n",
       "    </tr>\n",
       "    <tr>\n",
       "      <th>5</th>\n",
       "      <td>106</td>\n",
       "      <td>10006</td>\n",
       "      <td>'android'</td>\n",
       "      <td>'appo'</td>\n",
       "    </tr>\n",
       "    <tr>\n",
       "      <th>6</th>\n",
       "      <td>107</td>\n",
       "      <td>10007</td>\n",
       "      <td>'android'</td>\n",
       "      <td>'nokia'</td>\n",
       "    </tr>\n",
       "    <tr>\n",
       "      <th>7</th>\n",
       "      <td>108</td>\n",
       "      <td>10008</td>\n",
       "      <td>'android'</td>\n",
       "      <td>'oneplus'</td>\n",
       "    </tr>\n",
       "    <tr>\n",
       "      <th>8</th>\n",
       "      <td>109</td>\n",
       "      <td>10009</td>\n",
       "      <td>'android'</td>\n",
       "      <td>'google'</td>\n",
       "    </tr>\n",
       "  </tbody>\n",
       "</table>\n",
       "</div>"
      ],
      "text/plain": [
       "    warehouse_num    stock_keeping_unit        description    product_name\n",
       "0              101                 10001         'android'        'realme'\n",
       "1              102                 10002       'android'            'vivo'\n",
       "2              103                 10003         'android'       'samsung'\n",
       "3              104                 10004      'android'           'galaxy'\n",
       "4              105                 10005            'ios'         'iphone'\n",
       "5              106                 10006         'android'          'appo'\n",
       "6              107                 10007         'android'         'nokia'\n",
       "7              108                 10008       'android'         'oneplus'\n",
       "8              109                 10009         'android'        'google'"
      ]
     },
     "execution_count": 103,
     "metadata": {},
     "output_type": "execute_result"
    }
   ],
   "source": [
    "# Load the datasets from the csv file\n",
    "df_info = pd.read_csv('m14.csv')\n",
    "df_info"
   ]
  },
  {
   "cell_type": "code",
   "execution_count": 104,
   "metadata": {},
   "outputs": [
    {
     "data": {
      "text/html": [
       "<div>\n",
       "<style scoped>\n",
       "    .dataframe tbody tr th:only-of-type {\n",
       "        vertical-align: middle;\n",
       "    }\n",
       "\n",
       "    .dataframe tbody tr th {\n",
       "        vertical-align: top;\n",
       "    }\n",
       "\n",
       "    .dataframe thead th {\n",
       "        text-align: right;\n",
       "    }\n",
       "</style>\n",
       "<table border=\"1\" class=\"dataframe\">\n",
       "  <thead>\n",
       "    <tr style=\"text-align: right;\">\n",
       "      <th></th>\n",
       "      <th>warehouse_num</th>\n",
       "      <th>stock_keeping_unit</th>\n",
       "      <th>description</th>\n",
       "      <th>product_name</th>\n",
       "    </tr>\n",
       "  </thead>\n",
       "  <tbody>\n",
       "    <tr>\n",
       "      <th>0</th>\n",
       "      <td>101</td>\n",
       "      <td>10001</td>\n",
       "      <td>'android'</td>\n",
       "      <td>'realme'</td>\n",
       "    </tr>\n",
       "    <tr>\n",
       "      <th>1</th>\n",
       "      <td>102</td>\n",
       "      <td>10002</td>\n",
       "      <td>'android'</td>\n",
       "      <td>'vivo'</td>\n",
       "    </tr>\n",
       "    <tr>\n",
       "      <th>2</th>\n",
       "      <td>103</td>\n",
       "      <td>10003</td>\n",
       "      <td>'android'</td>\n",
       "      <td>'samsung'</td>\n",
       "    </tr>\n",
       "    <tr>\n",
       "      <th>3</th>\n",
       "      <td>104</td>\n",
       "      <td>10004</td>\n",
       "      <td>'android'</td>\n",
       "      <td>'galaxy'</td>\n",
       "    </tr>\n",
       "    <tr>\n",
       "      <th>4</th>\n",
       "      <td>105</td>\n",
       "      <td>10005</td>\n",
       "      <td>'ios'</td>\n",
       "      <td>'iphone'</td>\n",
       "    </tr>\n",
       "  </tbody>\n",
       "</table>\n",
       "</div>"
      ],
      "text/plain": [
       "    warehouse_num    stock_keeping_unit      description    product_name\n",
       "0              101                 10001       'android'        'realme'\n",
       "1              102                 10002     'android'            'vivo'\n",
       "2              103                 10003       'android'       'samsung'\n",
       "3              104                 10004    'android'           'galaxy'\n",
       "4              105                 10005          'ios'         'iphone'"
      ]
     },
     "execution_count": 104,
     "metadata": {},
     "output_type": "execute_result"
    }
   ],
   "source": [
    "# Display the first five rows\n",
    "df_info.head()\n"
   ]
  },
  {
   "cell_type": "code",
   "execution_count": 80,
   "metadata": {},
   "outputs": [],
   "source": [
    "# cassandra connectivity\n",
    "clstr = Cluster()\n",
    "session = clstr.connect()"
   ]
  },
  {
   "cell_type": "code",
   "execution_count": 81,
   "metadata": {},
   "outputs": [
    {
     "data": {
      "text/plain": [
       "<cassandra.cluster.ResultSet at 0x7f5b08519610>"
      ]
     },
     "execution_count": 81,
     "metadata": {},
     "output_type": "execute_result"
    }
   ],
   "source": [
    "# to create the keyspace in the \n",
    "session.execute(\"CREATE KEYSPACE IF NOT EXISTS m14 with REPLICATION= {'class':'SimpleStrategy','replication_factor':2}\")"
   ]
  },
  {
   "cell_type": "code",
   "execution_count": 82,
   "metadata": {},
   "outputs": [
    {
     "name": "stdout",
     "output_type": "stream",
     "text": [
      "m14\n",
      "system\n",
      "system_auth\n",
      "system_distributed\n",
      "system_schema\n",
      "system_traces\n",
      "system_views\n",
      "system_virtual_schema\n",
      "w04\n",
      "w04python\n"
     ]
    }
   ],
   "source": [
    "# to displays m14 keyspaces \n",
    "rows = session.execute(\"desc keyspaces\")\n",
    "for row in rows:\n",
    "    print(f\"{row[0]}\")"
   ]
  },
  {
   "cell_type": "code",
   "execution_count": 106,
   "metadata": {},
   "outputs": [
    {
     "data": {
      "text/plain": [
       "<cassandra.cluster.ResultSet at 0x7f5b08685950>"
      ]
     },
     "execution_count": 106,
     "metadata": {},
     "output_type": "execute_result"
    }
   ],
   "source": [
    "\n",
    "session.execute(\"\"\"\n",
    "CREATE TABLE IF NOT EXISTS m14.InventoryInfo(\n",
    "     warehouse_num INT, \n",
    "     stock_keeping_unit INT, \n",
    "     product_name TEXT, \n",
    "     description TEXT,\n",
    "     PRIMARY KEY(warehouse_num,stock_keeping_unit)\n",
    "    \n",
    ");\n",
    "\"\"\")"
   ]
  },
  {
   "cell_type": "code",
   "execution_count": 107,
   "metadata": {},
   "outputs": [
    {
     "data": {
      "text/plain": [
       "<cassandra.cluster.ResultSet at 0x7f5b08684810>"
      ]
     },
     "execution_count": 107,
     "metadata": {},
     "output_type": "execute_result"
    }
   ],
   "source": [
    "session.execute(\"select * from m14.InventoryInfo\")"
   ]
  },
  {
   "cell_type": "code",
   "execution_count": 110,
   "metadata": {},
   "outputs": [
    {
     "name": "stdout",
     "output_type": "stream",
     "text": [
      "stock_keeping_unit= 101, product_name = 10001, description =     'android' , warehouse_num =  'realme'\n",
      "stock_keeping_unit= 102, product_name = 10002, description =    'android'   , warehouse_num = 'vivo'\n",
      "stock_keeping_unit= 103, product_name = 10003, description =     'android' , warehouse_num =   'samsung'\n",
      "stock_keeping_unit= 104, product_name = 10004, description =  'android'    , warehouse_num =  'galaxy'\n",
      "stock_keeping_unit= 105, product_name = 10005, description =      'ios'  , warehouse_num =      'iphone'\n",
      "stock_keeping_unit= 106, product_name = 10006, description =   'android' , warehouse_num =    'appo'\n",
      "stock_keeping_unit= 107, product_name = 10007, description =       'android' , warehouse_num =    'nokia'\n",
      "stock_keeping_unit= 108, product_name = 10008, description =  'android'   , warehouse_num =  'oneplus'\n",
      "stock_keeping_unit= 109, product_name = 10009, description =        'android' , warehouse_num =    'google'\n"
     ]
    }
   ],
   "source": [
    "for index, row in df_info.head(10).iterrows():\n",
    "    print(f\"stock_keeping_unit= {row[0]}, product_name = {row[1]}, description = {row[2]}, warehouse_num = {row[3]}\")"
   ]
  },
  {
   "cell_type": "code",
   "execution_count": 113,
   "metadata": {},
   "outputs": [
    {
     "ename": "SyntaxException",
     "evalue": "<Error from server: code=2000 [Syntax error in CQL query] message=\"line 3:36 no viable alternative at input 'android' (...VALUES (101, '10001', '    '[android]...)\">",
     "output_type": "error",
     "traceback": [
      "\u001b[0;31m---------------------------------------------------------------------------\u001b[0m",
      "\u001b[0;31mSyntaxException\u001b[0m                           Traceback (most recent call last)",
      "Cell \u001b[0;32mIn[113], line 2\u001b[0m\n\u001b[1;32m      1\u001b[0m \u001b[39mfor\u001b[39;00m index, row \u001b[39min\u001b[39;00m df_info\u001b[39m.\u001b[39miterrows():\n\u001b[0;32m----> 2\u001b[0m     session\u001b[39m.\u001b[39mexecute(\u001b[39mf\u001b[39m\u001b[39m\"\"\"\u001b[39m\n\u001b[1;32m      3\u001b[0m \u001b[39m        INSERT INTO m14.InventoryInfo (stock_keeping_unit, product_name, description, warehouse_num)     \u001b[39m\n\u001b[1;32m      4\u001b[0m \u001b[39m        VALUES (\u001b[39m\u001b[39m{\u001b[39;00mrow[\u001b[39m0\u001b[39m]\u001b[39m}\u001b[39;00m\u001b[39m, \u001b[39m\u001b[39m'\u001b[39m\u001b[39m{\u001b[39;00mrow[\u001b[39m1\u001b[39m]\u001b[39m}\u001b[39;00m\u001b[39m'\u001b[39m\u001b[39m, \u001b[39m\u001b[39m'\u001b[39m\u001b[39m{\u001b[39;00mrow[\u001b[39m2\u001b[39m]\u001b[39m}\u001b[39;00m\u001b[39m'\u001b[39m\u001b[39m, \u001b[39m\u001b[39m{\u001b[39;00mrow[\u001b[39m3\u001b[39m]\u001b[39m}\u001b[39;00m\u001b[39m);\u001b[39m\n\u001b[1;32m      5\u001b[0m \u001b[39m        \u001b[39m\u001b[39m\"\"\"\u001b[39m\n\u001b[1;32m      6\u001b[0m        )\n",
      "File \u001b[0;32m~/miniconda3/envs/bd/lib/python3.11/site-packages/cassandra/cluster.py:2618\u001b[0m, in \u001b[0;36mcassandra.cluster.Session.execute\u001b[0;34m()\u001b[0m\n",
      "File \u001b[0;32m~/miniconda3/envs/bd/lib/python3.11/site-packages/cassandra/cluster.py:4894\u001b[0m, in \u001b[0;36mcassandra.cluster.ResponseFuture.result\u001b[0;34m()\u001b[0m\n",
      "\u001b[0;31mSyntaxException\u001b[0m: <Error from server: code=2000 [Syntax error in CQL query] message=\"line 3:36 no viable alternative at input 'android' (...VALUES (101, '10001', '    '[android]...)\">"
     ]
    }
   ],
   "source": [
    "for index, row in df_info.iterrows():\n",
    "    session.execute(f\"\"\"\n",
    "        INSERT INTO m14.InventoryInfo (stock_keeping_unit, product_name, description, warehouse_num)     \n",
    "        VALUES ({row[0]}, '{row[1]}', '{row[2]}', {row[3]});\n",
    "        \"\"\"\n",
    "       )"
   ]
  }
 ],
 "metadata": {
  "kernelspec": {
   "display_name": "bd",
   "language": "python",
   "name": "python3"
  },
  "language_info": {
   "codemirror_mode": {
    "name": "ipython",
    "version": 3
   },
   "file_extension": ".py",
   "mimetype": "text/x-python",
   "name": "python",
   "nbconvert_exporter": "python",
   "pygments_lexer": "ipython3",
   "version": "3.11.5"
  },
  "orig_nbformat": 4
 },
 "nbformat": 4,
 "nbformat_minor": 2
}
